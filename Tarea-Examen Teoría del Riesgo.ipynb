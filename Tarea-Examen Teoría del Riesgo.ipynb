{
 "cells": [
  {
   "cell_type": "code",
   "execution_count": 1,
   "metadata": {},
   "outputs": [],
   "source": [
    "\n",
    "import pandas as pd\n",
    "import math as mt\n",
    "import numpy as np\n",
    "import matplotlib.pyplot as plt"
   ]
  },
  {
   "cell_type": "markdown",
   "metadata": {},
   "source": [
    "### Tarea Examen Teoría del Riesgo"
   ]
  },
  {
   "cell_type": "markdown",
   "metadata": {},
   "source": [
    "#### Aviña Santiago Gerardo\n",
    "#### Cabrera Ramírez Eduardo Tadeo\n",
    "#### San Martín García Luis Uriel"
   ]
  },
  {
   "cell_type": "code",
   "execution_count": 38,
   "metadata": {},
   "outputs": [
    {
     "data": {
      "text/html": [
       "<div>\n",
       "<style scoped>\n",
       "    .dataframe tbody tr th:only-of-type {\n",
       "        vertical-align: middle;\n",
       "    }\n",
       "\n",
       "    .dataframe tbody tr th {\n",
       "        vertical-align: top;\n",
       "    }\n",
       "\n",
       "    .dataframe thead th {\n",
       "        text-align: right;\n",
       "    }\n",
       "</style>\n",
       "<table border=\"1\" class=\"dataframe\">\n",
       "  <thead>\n",
       "    <tr style=\"text-align: right;\">\n",
       "      <th></th>\n",
       "      <th>t</th>\n",
       "      <th>Grupo 1</th>\n",
       "      <th>Grupo 2</th>\n",
       "      <th>Grupo 3</th>\n",
       "    </tr>\n",
       "  </thead>\n",
       "  <tbody>\n",
       "    <tr>\n",
       "      <th>0</th>\n",
       "      <td>1</td>\n",
       "      <td>Calculo II</td>\n",
       "      <td>Seguro de Vida</td>\n",
       "      <td>Matemáticas Financieras I</td>\n",
       "    </tr>\n",
       "    <tr>\n",
       "      <th>1</th>\n",
       "      <td>2</td>\n",
       "      <td>Probabilidad I</td>\n",
       "      <td>Seguro de Daños</td>\n",
       "      <td>Matemáticas Financieras II</td>\n",
       "    </tr>\n",
       "    <tr>\n",
       "      <th>2</th>\n",
       "      <td>3</td>\n",
       "      <td>Estadistica I</td>\n",
       "      <td>Matemáticas Financieras II</td>\n",
       "      <td>Finanzas Corporativas</td>\n",
       "    </tr>\n",
       "    <tr>\n",
       "      <th>3</th>\n",
       "      <td>4</td>\n",
       "      <td>Probabilidad II</td>\n",
       "      <td>Probabilidad I</td>\n",
       "      <td>Aplicación a las Matemáticas Financieras</td>\n",
       "    </tr>\n",
       "    <tr>\n",
       "      <th>4</th>\n",
       "      <td>5</td>\n",
       "      <td>Estadistica II</td>\n",
       "      <td>Matemáticas Actuariales I</td>\n",
       "      <td>Probabilidad I</td>\n",
       "    </tr>\n",
       "    <tr>\n",
       "      <th>5</th>\n",
       "      <td>6</td>\n",
       "      <td>Procesos Estocasticos</td>\n",
       "      <td>Matemáticas Actuariales II</td>\n",
       "      <td>Procesos Estocásticos I</td>\n",
       "    </tr>\n",
       "  </tbody>\n",
       "</table>\n",
       "</div>"
      ],
      "text/plain": [
       "   t                Grupo 1                     Grupo 2  \\\n",
       "0  1             Calculo II              Seguro de Vida   \n",
       "1  2         Probabilidad I             Seguro de Daños   \n",
       "2  3          Estadistica I  Matemáticas Financieras II   \n",
       "3  4        Probabilidad II              Probabilidad I   \n",
       "4  5         Estadistica II   Matemáticas Actuariales I   \n",
       "5  6  Procesos Estocasticos  Matemáticas Actuariales II   \n",
       "\n",
       "                                    Grupo 3  \n",
       "0                 Matemáticas Financieras I  \n",
       "1                Matemáticas Financieras II  \n",
       "2                     Finanzas Corporativas  \n",
       "3  Aplicación a las Matemáticas Financieras  \n",
       "4                            Probabilidad I  \n",
       "5                   Procesos Estocásticos I  "
      ]
     },
     "execution_count": 38,
     "metadata": {},
     "output_type": "execute_result"
    }
   ],
   "source": [
    "d = {'t': [1,2,3,4,5,6], 'Grupo 1': ['Calculo II', 'Probabilidad I','Estadistica I','Probabilidad II','Estadistica II', 'Procesos Estocasticos']\n",
    "     ,'Grupo 2': ['Seguro de Vida', 'Seguro de Daños','Matemáticas Financieras II', 'Probabilidad I','Matemáticas Actuariales I','Matemáticas Actuariales II']\n",
    "     ,'Grupo 3': ['Matemáticas Financieras I', 'Matemáticas Financieras II', 'Finanzas Corporativas','Aplicación a las Matemáticas Financieras',' Probabilidad I','Procesos Estocásticos I']}\n",
    "df = pd.DataFrame(data=d)\n",
    "df"
   ]
  },
  {
   "cell_type": "code",
   "execution_count": 5,
   "metadata": {},
   "outputs": [
    {
     "name": "stdout",
     "output_type": "stream",
     "text": [
      "Materia 1 Calificacion 1: 8\n",
      "Materia 1 Calificacion 2: 7\n",
      "Materia 1 Calificacion 3: 8\n",
      "\n",
      "\n",
      "Materia 2 Calificacion 1: 6\n",
      "Materia 2 Calificacion 2: 6\n",
      "Materia 2 Calificacion 3: 6\n",
      "\n",
      "\n",
      "Materia 3 Calificacion 1: 8\n",
      "Materia 3 Calificacion 2: 6\n",
      "Materia 3 Calificacion 3: 8\n",
      "\n",
      "\n",
      "Materia 4 Calificacion 1: 6\n",
      "Materia 4 Calificacion 2: 7\n",
      "Materia 4 Calificacion 3: 7\n",
      "\n",
      "\n",
      "Materia 5 Calificacion 1: 7\n",
      "Materia 5 Calificacion 2: 5\n",
      "Materia 5 Calificacion 3: 8\n",
      "\n",
      "\n",
      "Materia 6 Calificacion 1: 7\n",
      "Materia 6 Calificacion 2: 7\n",
      "Materia 6 Calificacion 3: 8\n",
      "\n",
      "\n",
      "Materia 7 Calificacion 1: 9\n",
      "Materia 7 Calificacion 2: 6\n",
      "Materia 7 Calificacion 3: 10\n",
      "\n",
      "\n",
      "Materia 8 Calificacion 1: 9\n",
      "Materia 8 Calificacion 2: 9\n",
      "Materia 8 Calificacion 3: 10\n",
      "\n",
      "\n",
      "Materia 9 Calificacion 1: 8\n",
      "Materia 9 Calificacion 2: 8\n",
      "Materia 9 Calificacion 3: 8\n",
      "\n",
      "\n",
      "Materia 10 Calificacion 1: 6\n",
      "Materia 10 Calificacion 2: 6\n",
      "Materia 10 Calificacion 3: 7\n",
      "\n",
      "\n",
      "Materia 11 Calificacion 1: 8\n",
      "Materia 11 Calificacion 2: 9\n",
      "Materia 11 Calificacion 3: 6\n",
      "\n",
      "\n",
      "Materia 12 Calificacion 1: 8\n",
      "Materia 12 Calificacion 2: 7\n",
      "Materia 12 Calificacion 3: 8\n",
      "\n",
      "\n",
      "Materia 13 Calificacion 1: 10\n",
      "Materia 13 Calificacion 2: 10\n",
      "Materia 13 Calificacion 3: 10\n",
      "\n",
      "\n",
      "Materia 14 Calificacion 1: 8\n",
      "Materia 14 Calificacion 2: 8\n",
      "Materia 14 Calificacion 3: 9\n",
      "\n",
      "\n",
      "Materia 15 Calificacion 1: 9\n",
      "Materia 15 Calificacion 2: 9\n",
      "Materia 15 Calificacion 3: 10\n",
      "\n",
      "\n",
      "Materia 16 Calificacion 1: 8\n",
      "Materia 16 Calificacion 2: 7\n",
      "Materia 16 Calificacion 3: 9\n",
      "\n",
      "\n",
      "Materia 17 Calificacion 1: 6\n",
      "Materia 17 Calificacion 2: 6\n",
      "Materia 17 Calificacion 3: 8\n",
      "\n",
      "\n",
      "Materia 18 Calificacion 1: 7\n",
      "Materia 18 Calificacion 2: 7\n",
      "Materia 18 Calificacion 3: 8\n",
      "\n",
      "\n",
      "[7.666666666666667, 6.0, 7.333333333333333, 6.666666666666667, 6.666666666666667, 7.333333333333333, 8.333333333333334, 9.333333333333334, 8.0, 6.333333333333333, 7.666666666666667, 7.666666666666667, 10.0, 8.333333333333334, 9.333333333333334, 8.0, 6.666666666666667, 7.333333333333333]\n"
     ]
    }
   ],
   "source": [
    "pro=[]\n",
    "for i in range(1,19):\n",
    "    aux=0\n",
    "    for j in range(1,4):\n",
    "        calif=float(input('Materia '+str(i)+' Calificacion '+str(j)+': ' ))\n",
    "        aux=aux+calif\n",
    "    print('\\n')\n",
    "    pro.append(aux/3)\n",
    "print(pro)"
   ]
  },
  {
   "cell_type": "code",
   "execution_count": 6,
   "metadata": {},
   "outputs": [
    {
     "data": {
      "text/html": [
       "<div>\n",
       "<style scoped>\n",
       "    .dataframe tbody tr th:only-of-type {\n",
       "        vertical-align: middle;\n",
       "    }\n",
       "\n",
       "    .dataframe tbody tr th {\n",
       "        vertical-align: top;\n",
       "    }\n",
       "\n",
       "    .dataframe thead th {\n",
       "        text-align: right;\n",
       "    }\n",
       "</style>\n",
       "<table border=\"1\" class=\"dataframe\">\n",
       "  <thead>\n",
       "    <tr style=\"text-align: right;\">\n",
       "      <th></th>\n",
       "      <th>t</th>\n",
       "      <th>Grupo 1</th>\n",
       "      <th>Grupo 2</th>\n",
       "      <th>Grupo 3</th>\n",
       "    </tr>\n",
       "  </thead>\n",
       "  <tbody>\n",
       "    <tr>\n",
       "      <th>0</th>\n",
       "      <td>1</td>\n",
       "      <td>7.666667</td>\n",
       "      <td>8.333333</td>\n",
       "      <td>10.000000</td>\n",
       "    </tr>\n",
       "    <tr>\n",
       "      <th>1</th>\n",
       "      <td>2</td>\n",
       "      <td>6.000000</td>\n",
       "      <td>9.333333</td>\n",
       "      <td>8.333333</td>\n",
       "    </tr>\n",
       "    <tr>\n",
       "      <th>2</th>\n",
       "      <td>3</td>\n",
       "      <td>7.333333</td>\n",
       "      <td>8.000000</td>\n",
       "      <td>9.333333</td>\n",
       "    </tr>\n",
       "    <tr>\n",
       "      <th>3</th>\n",
       "      <td>4</td>\n",
       "      <td>6.666667</td>\n",
       "      <td>6.333333</td>\n",
       "      <td>8.000000</td>\n",
       "    </tr>\n",
       "    <tr>\n",
       "      <th>4</th>\n",
       "      <td>5</td>\n",
       "      <td>6.666667</td>\n",
       "      <td>7.666667</td>\n",
       "      <td>6.666667</td>\n",
       "    </tr>\n",
       "    <tr>\n",
       "      <th>5</th>\n",
       "      <td>6</td>\n",
       "      <td>7.333333</td>\n",
       "      <td>7.666667</td>\n",
       "      <td>7.333333</td>\n",
       "    </tr>\n",
       "  </tbody>\n",
       "</table>\n",
       "</div>"
      ],
      "text/plain": [
       "   t   Grupo 1   Grupo 2    Grupo 3\n",
       "0  1  7.666667  8.333333  10.000000\n",
       "1  2  6.000000  9.333333   8.333333\n",
       "2  3  7.333333  8.000000   9.333333\n",
       "3  4  6.666667  6.333333   8.000000\n",
       "4  5  6.666667  7.666667   6.666667\n",
       "5  6  7.333333  7.666667   7.333333"
      ]
     },
     "execution_count": 6,
     "metadata": {},
     "output_type": "execute_result"
    }
   ],
   "source": [
    "d1 = {'t': [1,2,3,4,5,6], 'Grupo 1': [7.666666666666667, 6.0, 7.333333333333333, 6.666666666666667, 6.666666666666667, 7.333333333333333]\n",
    "     ,'Grupo 2': [8.333333333333334, 9.333333333333334, 8.0, 6.333333333333333, 7.666666666666667, 7.666666666666667]\n",
    "     ,'Grupo 3': [10.0, 8.333333333333334, 9.333333333333334, 8.0, 6.666666666666667, 7.333333333333333]}\n",
    "df1 = pd.DataFrame(data=d1)\n",
    "df1"
   ]
  },
  {
   "cell_type": "code",
   "execution_count": 7,
   "metadata": {},
   "outputs": [],
   "source": [
    "t=[1,2,3,4,5,6]\n",
    "k=[1,2,3]"
   ]
  },
  {
   "cell_type": "code",
   "execution_count": 11,
   "metadata": {},
   "outputs": [
    {
     "data": {
      "text/plain": [
       "array([[ 7.666667,  8.333333, 10.      ],\n",
       "       [ 6.      ,  9.333333,  8.333333],\n",
       "       [ 7.333333,  8.      ,  9.333333],\n",
       "       [ 6.666667,  6.333333,  8.      ],\n",
       "       [ 6.666667,  7.666667,  6.666667],\n",
       "       [ 7.333333,  7.666667,  7.333333]])"
      ]
     },
     "execution_count": 11,
     "metadata": {},
     "output_type": "execute_result"
    }
   ],
   "source": [
    "x_jr=np.array([[ 7.666667, 8.333333, 10.000000 ],\n",
    "[ 6.000000, 9.333333, 8.333333 ],\n",
    "[ 7.333333, 8.000000, 9.333333 ],\n",
    "[ 6.666667, 6.333333, 8.000000 ],\n",
    "[ 6.666667, 7.666667, 6.666667 ],\n",
    "[ 7.333333, 7.666667, 7.333333 ]])\n",
    "x_jr"
   ]
  },
  {
   "cell_type": "markdown",
   "metadata": {},
   "source": [
    "### Estimador para la muestra"
   ]
  },
  {
   "cell_type": "code",
   "execution_count": 12,
   "metadata": {},
   "outputs": [
    {
     "data": {
      "text/plain": [
       "7.703703666666666"
      ]
     },
     "execution_count": 12,
     "metadata": {},
     "output_type": "execute_result"
    }
   ],
   "source": [
    "m_hat=(1/3)*sum(sum(x_jr[r][j]/len(t)for r in range(0,6))for j in range(0,3))\n",
    "m_hat"
   ]
  },
  {
   "cell_type": "markdown",
   "metadata": {},
   "source": [
    "### Estimador por grupo"
   ]
  },
  {
   "cell_type": "code",
   "execution_count": 13,
   "metadata": {},
   "outputs": [
    {
     "data": {
      "text/plain": [
       "[6.9444445, 7.888888833333333, 8.277777666666665]"
      ]
     },
     "execution_count": 13,
     "metadata": {},
     "output_type": "execute_result"
    }
   ],
   "source": [
    "Mj=[]\n",
    "for i in range(0,3):\n",
    "    aux=0\n",
    "    for j in range(0,6):\n",
    "        aux=x_jr[j][i]+aux\n",
    "    Mj.append(aux/6)\n",
    "Mj"
   ]
  },
  {
   "cell_type": "markdown",
   "metadata": {},
   "source": [
    "### Varianza de la muestra"
   ]
  },
  {
   "cell_type": "code",
   "execution_count": 14,
   "metadata": {},
   "outputs": [
    {
     "data": {
      "text/plain": [
       "0.9555554148149109"
      ]
     },
     "execution_count": 14,
     "metadata": {},
     "output_type": "execute_result"
    }
   ],
   "source": [
    "S_hat=(1/3)*sum(sum((x_jr[r][j]-Mj[j])**2/5 for r in range(0,6))for j in range(0,3))\n",
    "S_hat"
   ]
  },
  {
   "cell_type": "markdown",
   "metadata": {},
   "source": [
    "### Heterogeneidad de la muestra"
   ]
  },
  {
   "cell_type": "code",
   "execution_count": 15,
   "metadata": {},
   "outputs": [
    {
     "data": {
      "text/plain": [
       "0.31090525699587485"
      ]
     },
     "execution_count": 15,
     "metadata": {},
     "output_type": "execute_result"
    }
   ],
   "source": [
    "a_hat_2=((1/2)*sum((Mj[j]-m_hat)**2 for j in range(0,3)))-(1/len(t))*S_hat\n",
    "a_hat_2"
   ]
  },
  {
   "cell_type": "markdown",
   "metadata": {},
   "source": [
    "### Factor de Credibilidad"
   ]
  },
  {
   "cell_type": "code",
   "execution_count": 17,
   "metadata": {},
   "outputs": [
    {
     "data": {
      "text/plain": [
       "0.6612691127426613"
      ]
     },
     "execution_count": 17,
     "metadata": {},
     "output_type": "execute_result"
    }
   ],
   "source": [
    "Z=(a_hat_2*6)/(S_hat+a_hat_2*6)\n",
    "Z"
   ]
  },
  {
   "cell_type": "markdown",
   "metadata": {},
   "source": [
    "### Estimador de la credibilidad de la muestra con ajuste por grupo"
   ]
  },
  {
   "cell_type": "code",
   "execution_count": 18,
   "metadata": {},
   "outputs": [
    {
     "data": {
      "text/plain": [
       "[7.201629031183268, 7.826160897521435, 8.083321071295297]"
      ]
     },
     "execution_count": 18,
     "metadata": {},
     "output_type": "execute_result"
    }
   ],
   "source": [
    "M_hatj=[]\n",
    "for j in range(0,3):\n",
    "    M_hatj.append(m_hat*(1-Z)+Mj[j]*Z)\n",
    "M_hatj"
   ]
  },
  {
   "cell_type": "code",
   "execution_count": 19,
   "metadata": {},
   "outputs": [
    {
     "data": {
      "text/html": [
       "<div>\n",
       "<style scoped>\n",
       "    .dataframe tbody tr th:only-of-type {\n",
       "        vertical-align: middle;\n",
       "    }\n",
       "\n",
       "    .dataframe tbody tr th {\n",
       "        vertical-align: top;\n",
       "    }\n",
       "\n",
       "    .dataframe thead th {\n",
       "        text-align: right;\n",
       "    }\n",
       "</style>\n",
       "<table border=\"1\" class=\"dataframe\">\n",
       "  <thead>\n",
       "    <tr style=\"text-align: right;\">\n",
       "      <th></th>\n",
       "      <th>Grupo</th>\n",
       "      <th>Estimador individual</th>\n",
       "      <th>Varianza colectiva</th>\n",
       "      <th>Estimador colectivo m</th>\n",
       "      <th>a ajustado</th>\n",
       "      <th>Factor de credibilidad Z</th>\n",
       "      <th>Ajuste con credebilidad</th>\n",
       "    </tr>\n",
       "  </thead>\n",
       "  <tbody>\n",
       "    <tr>\n",
       "      <th>0</th>\n",
       "      <td>Grupo 1</td>\n",
       "      <td>6.944445</td>\n",
       "      <td></td>\n",
       "      <td></td>\n",
       "      <td></td>\n",
       "      <td></td>\n",
       "      <td>7.201629</td>\n",
       "    </tr>\n",
       "    <tr>\n",
       "      <th>1</th>\n",
       "      <td>Grupo 2</td>\n",
       "      <td>7.888889</td>\n",
       "      <td>0.955555</td>\n",
       "      <td>7.7037</td>\n",
       "      <td>0.310905</td>\n",
       "      <td>0.661269</td>\n",
       "      <td>7.826161</td>\n",
       "    </tr>\n",
       "    <tr>\n",
       "      <th>2</th>\n",
       "      <td>Grupo 3</td>\n",
       "      <td>8.277778</td>\n",
       "      <td></td>\n",
       "      <td></td>\n",
       "      <td></td>\n",
       "      <td></td>\n",
       "      <td>8.083321</td>\n",
       "    </tr>\n",
       "  </tbody>\n",
       "</table>\n",
       "</div>"
      ],
      "text/plain": [
       "    Grupo   Estimador individual  Varianza colectiva  Estimador colectivo m  \\\n",
       "0  Grupo 1               6.944445                                             \n",
       "1  Grupo 2               7.888889            0.955555                7.7037   \n",
       "2  Grupo 3               8.277778                                             \n",
       "\n",
       "  a ajustado Factor de credibilidad Z  Ajuste con credebilidad  \n",
       "0                                                     7.201629  \n",
       "1   0.310905                 0.661269                 7.826161  \n",
       "2                                                     8.083321  "
      ]
     },
     "execution_count": 19,
     "metadata": {},
     "output_type": "execute_result"
    }
   ],
   "source": [
    "d2 = { 'Grupo ': ['Grupo 1','Grupo 2','Grupo 3'],\n",
    "       'Estimador individual ': Mj,\n",
    "      'Varianza colectiva ': [' ',S_hat,' '],\n",
    "     'Estimador colectivo m':[' ',m_hat , ' '],\n",
    "     'a ajustado':[' ',a_hat_2,' '],\n",
    "     'Factor de credibilidad Z':[' ',Z,' '],\n",
    "     'Ajuste con credebilidad':M_hatj}\n",
    "df2 = pd.DataFrame(data=d2)\n",
    "df2"
   ]
  },
  {
   "cell_type": "markdown",
   "metadata": {},
   "source": [
    "### Bühlmann-Straub"
   ]
  },
  {
   "cell_type": "code",
   "execution_count": 20,
   "metadata": {},
   "outputs": [
    {
     "data": {
      "text/plain": [
       "array([[ 7.666667,  8.333333, 10.      ],\n",
       "       [ 6.      ,  9.333333,  8.333333],\n",
       "       [ 7.333333,  8.      ,  9.333333],\n",
       "       [ 6.666667,  6.333333,  8.      ],\n",
       "       [ 6.666667,  7.666667,  6.666667],\n",
       "       [ 7.333333,  7.666667,  7.333333]])"
      ]
     },
     "execution_count": 20,
     "metadata": {},
     "output_type": "execute_result"
    }
   ],
   "source": [
    "x_jr=np.array([[ 7.666667, 8.333333, 10.000000 ],\n",
    "[ 6.000000, 9.333333, 8.333333 ],\n",
    "[ 7.333333, 8.000000, 9.333333 ],\n",
    "[ 6.666667, 6.333333, 8.000000 ],\n",
    "[ 6.666667, 7.666667, 6.666667 ],\n",
    "[ 7.333333, 7.666667, 7.333333 ]])\n",
    "x_jr"
   ]
  },
  {
   "cell_type": "markdown",
   "metadata": {},
   "source": [
    "### Pesos de las materias"
   ]
  },
  {
   "cell_type": "code",
   "execution_count": 21,
   "metadata": {},
   "outputs": [
    {
     "data": {
      "text/html": [
       "<div>\n",
       "<style scoped>\n",
       "    .dataframe tbody tr th:only-of-type {\n",
       "        vertical-align: middle;\n",
       "    }\n",
       "\n",
       "    .dataframe tbody tr th {\n",
       "        vertical-align: top;\n",
       "    }\n",
       "\n",
       "    .dataframe thead th {\n",
       "        text-align: right;\n",
       "    }\n",
       "</style>\n",
       "<table border=\"1\" class=\"dataframe\">\n",
       "  <thead>\n",
       "    <tr style=\"text-align: right;\">\n",
       "      <th></th>\n",
       "      <th>Grupo</th>\n",
       "      <th>t=1</th>\n",
       "      <th>wjq1</th>\n",
       "      <th>t=2</th>\n",
       "      <th>wjq2</th>\n",
       "      <th>t=3</th>\n",
       "      <th>wjq3</th>\n",
       "      <th>t=4</th>\n",
       "      <th>wjq4</th>\n",
       "      <th>t=5</th>\n",
       "      <th>wjq5</th>\n",
       "      <th>t=6</th>\n",
       "      <th>wjq6</th>\n",
       "    </tr>\n",
       "  </thead>\n",
       "  <tbody>\n",
       "    <tr>\n",
       "      <th>0</th>\n",
       "      <td>Grupo 1</td>\n",
       "      <td>7.666667</td>\n",
       "      <td>2</td>\n",
       "      <td>6.000000</td>\n",
       "      <td>3</td>\n",
       "      <td>7.333333</td>\n",
       "      <td>4</td>\n",
       "      <td>6.666667</td>\n",
       "      <td>5</td>\n",
       "      <td>6.666667</td>\n",
       "      <td>5</td>\n",
       "      <td>7.333333</td>\n",
       "      <td>6</td>\n",
       "    </tr>\n",
       "    <tr>\n",
       "      <th>1</th>\n",
       "      <td>Grupo 2</td>\n",
       "      <td>8.333333</td>\n",
       "      <td>1</td>\n",
       "      <td>9.333333</td>\n",
       "      <td>1</td>\n",
       "      <td>8.000000</td>\n",
       "      <td>2</td>\n",
       "      <td>6.333333</td>\n",
       "      <td>3</td>\n",
       "      <td>7.666667</td>\n",
       "      <td>4</td>\n",
       "      <td>7.666667</td>\n",
       "      <td>5</td>\n",
       "    </tr>\n",
       "    <tr>\n",
       "      <th>2</th>\n",
       "      <td>Grupo 3</td>\n",
       "      <td>10.000000</td>\n",
       "      <td>1</td>\n",
       "      <td>8.333333</td>\n",
       "      <td>2</td>\n",
       "      <td>9.333333</td>\n",
       "      <td>3</td>\n",
       "      <td>8.000000</td>\n",
       "      <td>4</td>\n",
       "      <td>6.666667</td>\n",
       "      <td>3</td>\n",
       "      <td>7.333333</td>\n",
       "      <td>6</td>\n",
       "    </tr>\n",
       "  </tbody>\n",
       "</table>\n",
       "</div>"
      ],
      "text/plain": [
       "    Grupo         t=1  wjq1       t=2  wjq2       t=3  wjq3       t=4  wjq4  \\\n",
       "0  Grupo 1   7.666667     2  6.000000     3  7.333333     4  6.666667     5   \n",
       "1  Grupo 2   8.333333     1  9.333333     1  8.000000     2  6.333333     3   \n",
       "2  Grupo 3  10.000000     1  8.333333     2  9.333333     3  8.000000     4   \n",
       "\n",
       "        t=5  wjq5       t=6  wjq6  \n",
       "0  6.666667     5  7.333333     6  \n",
       "1  7.666667     4  7.666667     5  \n",
       "2  6.666667     3  7.333333     6  "
      ]
     },
     "execution_count": 21,
     "metadata": {},
     "output_type": "execute_result"
    }
   ],
   "source": [
    "d3= { 'Grupo ': ['Grupo 1','Grupo 2','Grupo 3'], 't=1':[7.666667,  8.333333, 10.],'wjq1':[2,1,1],\n",
    "      't=2':[6.      ,  9.333333,  8.333333],'wjq2':[3,1,2],\n",
    "      't=3':[7.333333,  8.      ,  9.333333],'wjq3':[4,2,3],\n",
    "      't=4':[6.666667,  6.333333,  8.      ],'wjq4':[5,3,4],\n",
    "      't=5':[6.666667,  7.666667,  6.666667],'wjq5':[5,4,3],\n",
    "      't=6':[7.333333,  7.666667,  7.333333],'wjq6':[6,5,6]}\n",
    "df3 = pd.DataFrame(data=d3)\n",
    "df3"
   ]
  },
  {
   "cell_type": "code",
   "execution_count": 22,
   "metadata": {
    "scrolled": true
   },
   "outputs": [
    {
     "data": {
      "text/plain": [
       "array([[2, 1, 1],\n",
       "       [3, 1, 2],\n",
       "       [4, 2, 3],\n",
       "       [5, 3, 4],\n",
       "       [5, 4, 3],\n",
       "       [6, 5, 6]])"
      ]
     },
     "execution_count": 22,
     "metadata": {},
     "output_type": "execute_result"
    }
   ],
   "source": [
    "w_jq=np.array([[2,1,1],\n",
    "[3,1,2],\n",
    "[4,2,3],\n",
    "[5,3,4],\n",
    "[5,4,3],\n",
    "[6,5,6]])\n",
    "w_jq"
   ]
  },
  {
   "cell_type": "markdown",
   "metadata": {},
   "source": [
    "### Suma de pesos por grupo "
   ]
  },
  {
   "cell_type": "code",
   "execution_count": 24,
   "metadata": {},
   "outputs": [
    {
     "data": {
      "text/plain": [
       "[25, 16, 19]"
      ]
     },
     "execution_count": 24,
     "metadata": {},
     "output_type": "execute_result"
    }
   ],
   "source": [
    "wj=[]\n",
    "for j in range(0,3):\n",
    "    aux=0\n",
    "    for q in range(0,6):\n",
    "        aux=aux+w_jq[q][j]\n",
    "    wj.append(aux)\n",
    "wj"
   ]
  },
  {
   "cell_type": "markdown",
   "metadata": {},
   "source": [
    "#### Suma de todos los pesos"
   ]
  },
  {
   "cell_type": "code",
   "execution_count": 25,
   "metadata": {
    "scrolled": true
   },
   "outputs": [
    {
     "data": {
      "text/plain": [
       "60"
      ]
     },
     "execution_count": 25,
     "metadata": {},
     "output_type": "execute_result"
    }
   ],
   "source": [
    "W=sum(wj)\n",
    "W"
   ]
  },
  {
   "cell_type": "markdown",
   "metadata": {},
   "source": [
    "### Promedio ponderado de las calificaciones por grupo con el peso"
   ]
  },
  {
   "cell_type": "code",
   "execution_count": 26,
   "metadata": {},
   "outputs": [
    {
     "data": {
      "text/plain": [
       "[6.933333360000001, 7.60416675, 7.929824421052631]"
      ]
     },
     "execution_count": 26,
     "metadata": {},
     "output_type": "execute_result"
    }
   ],
   "source": [
    "x_wj=[]\n",
    "for j in range(0,3):\n",
    "    aux=0\n",
    "    for q in range(0,6):\n",
    "        aux=aux+((w_jq[q][j]/wj[j])*x_jr[q][j])\n",
    "    x_wj.append(aux)\n",
    "x_wj"
   ]
  },
  {
   "cell_type": "markdown",
   "metadata": {},
   "source": [
    "### Promedio ponderado de todas las calificaciones"
   ]
  },
  {
   "cell_type": "code",
   "execution_count": 27,
   "metadata": {},
   "outputs": [
    {
     "data": {
      "text/plain": [
       "7.427777766666667"
      ]
     },
     "execution_count": 27,
     "metadata": {},
     "output_type": "execute_result"
    }
   ],
   "source": [
    "x_ww=sum((x_wj[j]/W)*wj[j] for j in range(0,3))\n",
    "x_ww"
   ]
  },
  {
   "cell_type": "markdown",
   "metadata": {},
   "source": [
    "#### Varianza "
   ]
  },
  {
   "cell_type": "code",
   "execution_count": 28,
   "metadata": {},
   "outputs": [
    {
     "data": {
      "text/plain": [
       "2.1451506938404923"
      ]
     },
     "execution_count": 28,
     "metadata": {},
     "output_type": "execute_result"
    }
   ],
   "source": [
    "s_hat_str=(1/3)*sum((1/5)*sum(w_jq[q][j]*((x_jr[q][j]-x_wj[j])**2) for q in range(0,6))for j in range(0,3))\n",
    "s_hat_str"
   ]
  },
  {
   "cell_type": "markdown",
   "metadata": {},
   "source": [
    "#### Calculo de C"
   ]
  },
  {
   "cell_type": "code",
   "execution_count": 29,
   "metadata": {},
   "outputs": [
    {
     "data": {
      "text/plain": [
       "0.6549999999999999"
      ]
     },
     "execution_count": 29,
     "metadata": {},
     "output_type": "execute_result"
    }
   ],
   "source": [
    "c=sum((wj[j]/W)*(1-(wj[j]/W)) for j in range(0,3))\n",
    "c"
   ]
  },
  {
   "cell_type": "markdown",
   "metadata": {},
   "source": [
    "#### Heterogeneidad"
   ]
  },
  {
   "cell_type": "code",
   "execution_count": 30,
   "metadata": {},
   "outputs": [
    {
     "data": {
      "text/plain": [
       "0.18087418803822722"
      ]
     },
     "execution_count": 30,
     "metadata": {},
     "output_type": "execute_result"
    }
   ],
   "source": [
    "a_hat_str=(W*(sum(wj[j]*(((x_wj[j]-x_ww)**2))for j in range(0,3))-((2)*s_hat_str)))/((W**2)-sum(wj[j]**2 for j in range(0,3)))\n",
    "a_hat_str"
   ]
  },
  {
   "cell_type": "markdown",
   "metadata": {},
   "source": [
    "### Credibilidad Bühlman-Straub por grupo"
   ]
  },
  {
   "cell_type": "code",
   "execution_count": 31,
   "metadata": {},
   "outputs": [
    {
     "data": {
      "text/plain": [
       "[0.6782437441081335, 0.5743020293339818, 0.6156856275807208]"
      ]
     },
     "execution_count": 31,
     "metadata": {},
     "output_type": "execute_result"
    }
   ],
   "source": [
    "zj=[]\n",
    "for j in range(0,3):\n",
    "    zj.append(a_hat_str*wj[j]/(s_hat_str+(a_hat_str*wj[j])))\n",
    "zj"
   ]
  },
  {
   "cell_type": "markdown",
   "metadata": {},
   "source": [
    "#### Factores de riesgo de los grupos"
   ]
  },
  {
   "cell_type": "code",
   "execution_count": 32,
   "metadata": {},
   "outputs": [
    {
     "data": {
      "text/plain": [
       "1.868231401022836"
      ]
     },
     "execution_count": 32,
     "metadata": {},
     "output_type": "execute_result"
    }
   ],
   "source": [
    "Z=sum(zj)\n",
    "Z"
   ]
  },
  {
   "cell_type": "markdown",
   "metadata": {},
   "source": [
    "### Estimador de calificación de los grupos"
   ]
  },
  {
   "cell_type": "code",
   "execution_count": 33,
   "metadata": {},
   "outputs": [
    {
     "data": {
      "text/plain": [
       "7.467949254464646"
      ]
     },
     "execution_count": 33,
     "metadata": {},
     "output_type": "execute_result"
    }
   ],
   "source": [
    "x_zw=sum((zj[j]/Z)*x_wj[j] for j in range(0,3))\n",
    "x_zw"
   ]
  },
  {
   "cell_type": "markdown",
   "metadata": {},
   "source": [
    "#### Calificación con peso y credibilidad por grupo"
   ]
  },
  {
   "cell_type": "code",
   "execution_count": 34,
   "metadata": {},
   "outputs": [
    {
     "data": {
      "text/plain": [
       "[7.1053493685432265, 7.546179238581392, 7.752319156269319]"
      ]
     },
     "execution_count": 34,
     "metadata": {},
     "output_type": "execute_result"
    }
   ],
   "source": [
    "M_jalpha=[]\n",
    "for j in range(0,3):\n",
    "    M_jalpha.append((1-zj[j])*x_zw+zj[j]*x_wj[j])\n",
    "M_jalpha"
   ]
  },
  {
   "cell_type": "code",
   "execution_count": 35,
   "metadata": {
    "scrolled": true
   },
   "outputs": [
    {
     "data": {
      "text/html": [
       "<div>\n",
       "<style scoped>\n",
       "    .dataframe tbody tr th:only-of-type {\n",
       "        vertical-align: middle;\n",
       "    }\n",
       "\n",
       "    .dataframe tbody tr th {\n",
       "        vertical-align: top;\n",
       "    }\n",
       "\n",
       "    .dataframe thead th {\n",
       "        text-align: right;\n",
       "    }\n",
       "</style>\n",
       "<table border=\"1\" class=\"dataframe\">\n",
       "  <thead>\n",
       "    <tr style=\"text-align: right;\">\n",
       "      <th></th>\n",
       "      <th>Grupo</th>\n",
       "      <th>Estimador individual Straub</th>\n",
       "      <th>Estimador colectivo ajustado m Straub</th>\n",
       "      <th>a ajustado Straub</th>\n",
       "      <th>Factor de credibilidad Z por grupo Straub</th>\n",
       "      <th>Ajuste con credebilidad ajustada Straub</th>\n",
       "    </tr>\n",
       "  </thead>\n",
       "  <tbody>\n",
       "    <tr>\n",
       "      <th>0</th>\n",
       "      <td>Grupo 1</td>\n",
       "      <td>6.933333</td>\n",
       "      <td></td>\n",
       "      <td></td>\n",
       "      <td>0.678244</td>\n",
       "      <td>7.105349</td>\n",
       "    </tr>\n",
       "    <tr>\n",
       "      <th>1</th>\n",
       "      <td>Grupo 2</td>\n",
       "      <td>7.604167</td>\n",
       "      <td>7.46795</td>\n",
       "      <td>0.180874</td>\n",
       "      <td>0.574302</td>\n",
       "      <td>7.546179</td>\n",
       "    </tr>\n",
       "    <tr>\n",
       "      <th>2</th>\n",
       "      <td>Grupo 3</td>\n",
       "      <td>7.929824</td>\n",
       "      <td></td>\n",
       "      <td></td>\n",
       "      <td>0.615686</td>\n",
       "      <td>7.752319</td>\n",
       "    </tr>\n",
       "  </tbody>\n",
       "</table>\n",
       "</div>"
      ],
      "text/plain": [
       "    Grupo   Estimador individual Straub Estimador colectivo ajustado m Straub  \\\n",
       "0  Grupo 1                     6.933333                                         \n",
       "1  Grupo 2                     7.604167                               7.46795   \n",
       "2  Grupo 3                     7.929824                                         \n",
       "\n",
       "  a ajustado Straub  Factor de credibilidad Z por grupo Straub  \\\n",
       "0                                                     0.678244   \n",
       "1          0.180874                                   0.574302   \n",
       "2                                                     0.615686   \n",
       "\n",
       "   Ajuste con credebilidad ajustada Straub  \n",
       "0                                 7.105349  \n",
       "1                                 7.546179  \n",
       "2                                 7.752319  "
      ]
     },
     "execution_count": 35,
     "metadata": {},
     "output_type": "execute_result"
    }
   ],
   "source": [
    "d4 = { 'Grupo ': ['Grupo 1','Grupo 2','Grupo 3'],\n",
    "      'Estimador individual Straub':x_wj,\n",
    "      'Estimador colectivo ajustado m Straub':[' ',x_zw , ' '],\n",
    "     'a ajustado Straub':[' ',a_hat_str,' '],\n",
    "     'Factor de credibilidad Z por grupo Straub':zj,\n",
    "     'Ajuste con credebilidad ajustada Straub':M_jalpha}\n",
    "df4 = pd.DataFrame(data=d4)\n",
    "df4"
   ]
  },
  {
   "cell_type": "markdown",
   "metadata": {},
   "source": [
    "## Calificación esperada 7.46795"
   ]
  }
 ],
 "metadata": {
  "kernelspec": {
   "display_name": "Python 3",
   "language": "python",
   "name": "python3"
  },
  "language_info": {
   "codemirror_mode": {
    "name": "ipython",
    "version": 3
   },
   "file_extension": ".py",
   "mimetype": "text/x-python",
   "name": "python",
   "nbconvert_exporter": "python",
   "pygments_lexer": "ipython3",
   "version": "3.8.3"
  }
 },
 "nbformat": 4,
 "nbformat_minor": 4
}
